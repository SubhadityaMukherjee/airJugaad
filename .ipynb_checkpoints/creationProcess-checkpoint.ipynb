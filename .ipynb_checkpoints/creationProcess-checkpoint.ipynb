{
 "cells": [
  {
   "cell_type": "code",
   "execution_count": 30,
   "id": "shaped-engagement",
   "metadata": {
    "execution": {
     "iopub.execute_input": "2021-05-28T10:50:00.789276Z",
     "iopub.status.busy": "2021-05-28T10:50:00.788871Z",
     "iopub.status.idle": "2021-05-28T10:50:00.795182Z",
     "shell.execute_reply": "2021-05-28T10:50:00.793878Z",
     "shell.execute_reply.started": "2021-05-28T10:50:00.789227Z"
    }
   },
   "outputs": [],
   "source": [
    "from pathlib import Path\n",
    "from tqdm import tqdm\n",
    "import http.server\n",
    "import socketserver\n",
    "from pathlib import Path"
   ]
  },
  {
   "cell_type": "code",
   "execution_count": 123,
   "id": "satisfactory-fields",
   "metadata": {
    "execution": {
     "iopub.execute_input": "2021-05-28T11:24:23.123171Z",
     "iopub.status.busy": "2021-05-28T11:24:23.123009Z",
     "iopub.status.idle": "2021-05-28T11:24:23.125604Z",
     "shell.execute_reply": "2021-05-28T11:24:23.125311Z",
     "shell.execute_reply.started": "2021-05-28T11:24:23.123155Z"
    }
   },
   "outputs": [],
   "source": [
    "def serve():\n",
    "    \"\"\"\n",
    "    Local server creation. Chooses a free port and creates\n",
    "    \"\"\"\n",
    "    handler = http.server.SimpleHTTPRequestHandler\n",
    "\n",
    "    with socketserver.TCPServer((\"\", 0), handler) as httpd:\n",
    "        print(\n",
    "            \"Server started at localhost:\"\n",
    "            + \" http://0.0.0.0:\"\n",
    "            + str(httpd.server_address[1])\n",
    "        )\n",
    "        httpd.serve_forever()"
   ]
  },
  {
   "cell_type": "markdown",
   "id": "hungry-profession",
   "metadata": {
    "execution": {
     "iopub.execute_input": "2021-05-28T10:49:01.042729Z",
     "iopub.status.busy": "2021-05-28T10:49:01.042592Z",
     "iopub.status.idle": "2021-05-28T10:49:01.045267Z",
     "shell.execute_reply": "2021-05-28T10:49:01.044503Z",
     "shell.execute_reply.started": "2021-05-28T10:49:01.042712Z"
    }
   },
   "source": [
    "# Final approach\n"
   ]
  },
  {
   "cell_type": "code",
   "execution_count": 89,
   "id": "persistent-kingdom",
   "metadata": {
    "execution": {
     "iopub.execute_input": "2021-05-28T11:10:29.647474Z",
     "iopub.status.busy": "2021-05-28T11:10:29.646975Z",
     "iopub.status.idle": "2021-05-28T11:10:29.651242Z",
     "shell.execute_reply": "2021-05-28T11:10:29.650714Z",
     "shell.execute_reply.started": "2021-05-28T11:10:29.647409Z"
    }
   },
   "outputs": [],
   "source": [
    "import pyperclip\n",
    "import subprocess\n",
    "from pathlib import Path\n",
    "from PIL import Image"
   ]
  },
  {
   "cell_type": "code",
   "execution_count": 47,
   "id": "hearing-fever",
   "metadata": {
    "execution": {
     "iopub.execute_input": "2021-05-28T10:58:25.984105Z",
     "iopub.status.busy": "2021-05-28T10:58:25.983624Z",
     "iopub.status.idle": "2021-05-28T10:58:25.990335Z",
     "shell.execute_reply": "2021-05-28T10:58:25.988784Z",
     "shell.execute_reply.started": "2021-05-28T10:58:25.984047Z"
    }
   },
   "outputs": [],
   "source": [
    "def createIfNot(x):\n",
    "    Path.mkdir(x, exist_ok=True)        "
   ]
  },
  {
   "cell_type": "code",
   "execution_count": 78,
   "id": "danish-relationship",
   "metadata": {
    "execution": {
     "iopub.execute_input": "2021-05-28T11:08:52.141420Z",
     "iopub.status.busy": "2021-05-28T11:08:52.140793Z",
     "iopub.status.idle": "2021-05-28T11:08:52.148360Z",
     "shell.execute_reply": "2021-05-28T11:08:52.146726Z",
     "shell.execute_reply.started": "2021-05-28T11:08:52.141340Z"
    }
   },
   "outputs": [],
   "source": [
    "pa = \"/media/hdd/github/airJugaad/airjugaad/\"\n",
    "\n",
    "main_pa = Path(pa)\n",
    "\n",
    "createIfNot(main_pa)"
   ]
  },
  {
   "cell_type": "code",
   "execution_count": 79,
   "id": "aggressive-determination",
   "metadata": {
    "execution": {
     "iopub.execute_input": "2021-05-28T11:08:52.554872Z",
     "iopub.status.busy": "2021-05-28T11:08:52.554653Z",
     "iopub.status.idle": "2021-05-28T11:08:52.565590Z",
     "shell.execute_reply": "2021-05-28T11:08:52.565060Z",
     "shell.execute_reply.started": "2021-05-28T11:08:52.554851Z"
    }
   },
   "outputs": [],
   "source": [
    "txt = pyperclip.paste()\n",
    "\n",
    "im = os.system(\"xclip -selection clipboard -t image/png -o\")"
   ]
  },
  {
   "cell_type": "code",
   "execution_count": 80,
   "id": "sound-democracy",
   "metadata": {
    "execution": {
     "iopub.execute_input": "2021-05-28T11:08:52.935065Z",
     "iopub.status.busy": "2021-05-28T11:08:52.934596Z",
     "iopub.status.idle": "2021-05-28T11:08:52.942948Z",
     "shell.execute_reply": "2021-05-28T11:08:52.941611Z",
     "shell.execute_reply.started": "2021-05-28T11:08:52.935005Z"
    }
   },
   "outputs": [
    {
     "data": {
      "text/plain": [
       "256"
      ]
     },
     "execution_count": 80,
     "metadata": {},
     "output_type": "execute_result"
    }
   ],
   "source": [
    "im"
   ]
  },
  {
   "cell_type": "code",
   "execution_count": 81,
   "id": "numerical-recycling",
   "metadata": {
    "execution": {
     "iopub.execute_input": "2021-05-28T11:08:53.267720Z",
     "iopub.status.busy": "2021-05-28T11:08:53.267317Z",
     "iopub.status.idle": "2021-05-28T11:08:53.274215Z",
     "shell.execute_reply": "2021-05-28T11:08:53.273638Z",
     "shell.execute_reply.started": "2021-05-28T11:08:53.267671Z"
    }
   },
   "outputs": [],
   "source": [
    "def get_name(main_pa):\n",
    "    imPa = Path(main_pa/'data/images')\n",
    "    recievedPa = Path(main_pa/'data/recieved')\n",
    "    ims_exisitng = [x for x in imPa.iterdir()]\n",
    "    ims_exisitng = [x.name for x in ims_exisitng]\n",
    "    nfiles = len(ims_exisitng)\n",
    "    \n",
    "    if nfiles == 0:\n",
    "        return Path(imPa/\"im_1.png\")\n",
    "    else:\n",
    "        return Path(imPa/f\"im_{str(nfiles+1)}.png\")"
   ]
  },
  {
   "cell_type": "code",
   "execution_count": 108,
   "id": "crucial-indie",
   "metadata": {
    "execution": {
     "iopub.execute_input": "2021-05-28T11:14:40.158963Z",
     "iopub.status.busy": "2021-05-28T11:14:40.158508Z",
     "iopub.status.idle": "2021-05-28T11:14:40.170341Z",
     "shell.execute_reply": "2021-05-28T11:14:40.168810Z",
     "shell.execute_reply.started": "2021-05-28T11:14:40.158902Z"
    }
   },
   "outputs": [],
   "source": [
    "def get_clip_and_save(main_pa):\n",
    "    txt = pyperclip.paste()\n",
    "    im = subprocess.run([\"xclip\", \"-selection\", \"clipboard\" ,\"-t\" ,\"image/png\", \"-o\"], stdout=subprocess.PIPE)\n",
    "    \n",
    "    if im.returncode==0:\n",
    "        with open(get_name(main_pa), \"wb+\") as f:\n",
    "            print(\"saving image\")\n",
    "            f.write(im.stdout)\n",
    "    else:\n",
    "        with open(main_pa/\"data/textclip.txt\", \"a+\") as f:\n",
    "            print(\"saving text\")\n",
    "            f.write(\"\\n\"+txt+\"\\n\")"
   ]
  },
  {
   "cell_type": "code",
   "execution_count": 109,
   "id": "imported-trail",
   "metadata": {
    "execution": {
     "iopub.execute_input": "2021-05-28T11:14:40.605384Z",
     "iopub.status.busy": "2021-05-28T11:14:40.604936Z",
     "iopub.status.idle": "2021-05-28T11:14:40.628705Z",
     "shell.execute_reply": "2021-05-28T11:14:40.628107Z",
     "shell.execute_reply.started": "2021-05-28T11:14:40.605329Z"
    }
   },
   "outputs": [
    {
     "name": "stdout",
     "output_type": "stream",
     "text": [
      "saving image\n"
     ]
    }
   ],
   "source": [
    "get_clip_and_save(main_pa)"
   ]
  },
  {
   "cell_type": "markdown",
   "id": "technical-cover",
   "metadata": {},
   "source": [
    "# Saving stuff"
   ]
  },
  {
   "cell_type": "code",
   "execution_count": 112,
   "id": "together-activation",
   "metadata": {
    "execution": {
     "iopub.execute_input": "2021-05-28T11:18:35.533596Z",
     "iopub.status.busy": "2021-05-28T11:18:35.533152Z",
     "iopub.status.idle": "2021-05-28T11:18:35.539329Z",
     "shell.execute_reply": "2021-05-28T11:18:35.537986Z",
     "shell.execute_reply.started": "2021-05-28T11:18:35.533542Z"
    }
   },
   "outputs": [],
   "source": [
    "index_html = '''\n",
    "<a href = \"./html/ims.html\">Images</a>\n",
    "<a href = \"./html/rec.html\">Recieved</a>\n",
    "\n",
    "'''"
   ]
  },
  {
   "cell_type": "code",
   "execution_count": 116,
   "id": "pharmaceutical-defeat",
   "metadata": {
    "execution": {
     "iopub.execute_input": "2021-05-28T11:22:07.642895Z",
     "iopub.status.busy": "2021-05-28T11:22:07.642748Z",
     "iopub.status.idle": "2021-05-28T11:22:07.645543Z",
     "shell.execute_reply": "2021-05-28T11:22:07.645052Z",
     "shell.execute_reply.started": "2021-05-28T11:22:07.642878Z"
    }
   },
   "outputs": [],
   "source": [
    "def generate_sites(main_pa):\n",
    "    with open(main_pa/\"index.html\", \"w+\") as f:\n",
    "            f.write(index_html)\n",
    "            with open(main_pa/\"data/textclip.txt\", \"r\") as content:\n",
    "                f.write(\"\\n\".join(content.readlines()[::-1]))"
   ]
  },
  {
   "cell_type": "code",
   "execution_count": 117,
   "id": "dimensional-trademark",
   "metadata": {
    "execution": {
     "iopub.execute_input": "2021-05-28T11:22:07.882608Z",
     "iopub.status.busy": "2021-05-28T11:22:07.882258Z",
     "iopub.status.idle": "2021-05-28T11:22:07.886387Z",
     "shell.execute_reply": "2021-05-28T11:22:07.885781Z",
     "shell.execute_reply.started": "2021-05-28T11:22:07.882565Z"
    }
   },
   "outputs": [],
   "source": [
    "generate_sites(main_pa)"
   ]
  },
  {
   "cell_type": "code",
   "execution_count": null,
   "id": "informal-japan",
   "metadata": {},
   "outputs": [],
   "source": []
  },
  {
   "cell_type": "code",
   "execution_count": null,
   "id": "hawaiian-cannon",
   "metadata": {},
   "outputs": [],
   "source": []
  },
  {
   "cell_type": "markdown",
   "id": "smaller-methodology",
   "metadata": {},
   "source": [
    "# New approach"
   ]
  },
  {
   "cell_type": "code",
   "execution_count": 15,
   "id": "former-conversion",
   "metadata": {
    "execution": {
     "iopub.execute_input": "2021-05-28T10:43:12.328439Z",
     "iopub.status.busy": "2021-05-28T10:43:12.327950Z",
     "iopub.status.idle": "2021-05-28T10:43:12.441426Z",
     "shell.execute_reply": "2021-05-28T10:43:12.441060Z",
     "shell.execute_reply.started": "2021-05-28T10:43:12.328380Z"
    }
   },
   "outputs": [],
   "source": [
    "from PIL import ImageGrab\n",
    "import pyperclip\n",
    "import gi\n",
    "gi.require_version('Gtk', '3.0')\n",
    "from gi.repository import Gtk, Gdk, GObject"
   ]
  },
  {
   "cell_type": "code",
   "execution_count": 16,
   "id": "capable-swimming",
   "metadata": {
    "execution": {
     "iopub.execute_input": "2021-05-28T10:43:45.257896Z",
     "iopub.status.busy": "2021-05-28T10:43:45.257481Z",
     "iopub.status.idle": "2021-05-28T10:43:45.266083Z",
     "shell.execute_reply": "2021-05-28T10:43:45.264870Z",
     "shell.execute_reply.started": "2021-05-28T10:43:45.257845Z"
    }
   },
   "outputs": [
    {
     "data": {
      "text/plain": [
       "<Gtk.Clipboard object at 0x7fe4b1fab440 (GtkClipboard at 0x55ecf452f3a0)>"
      ]
     },
     "execution_count": 16,
     "metadata": {},
     "output_type": "execute_result"
    }
   ],
   "source": [
    "Gtk.Clipboard.get(Gdk.SELECTION_CLIPBOARD)"
   ]
  },
  {
   "cell_type": "code",
   "execution_count": 63,
   "id": "protecting-mandate",
   "metadata": {
    "execution": {
     "iopub.execute_input": "2021-05-28T11:04:34.851956Z",
     "iopub.status.busy": "2021-05-28T11:04:34.851612Z",
     "iopub.status.idle": "2021-05-28T11:04:34.869154Z",
     "shell.execute_reply": "2021-05-28T11:04:34.868408Z",
     "shell.execute_reply.started": "2021-05-28T11:04:34.851913Z"
    }
   },
   "outputs": [
    {
     "ename": "NotImplementedError",
     "evalue": "ImageGrab.grabclipboard() is macOS and Windows only",
     "output_type": "error",
     "traceback": [
      "\u001b[0;31m---------------------------------------------------------------------------\u001b[0m",
      "\u001b[0;31mNotImplementedError\u001b[0m                       Traceback (most recent call last)",
      "\u001b[0;32m<ipython-input-63-91845f9345af>\u001b[0m in \u001b[0;36m<module>\u001b[0;34m\u001b[0m\n\u001b[1;32m      1\u001b[0m \u001b[0mtxt\u001b[0m \u001b[0;34m=\u001b[0m \u001b[0mpyperclip\u001b[0m\u001b[0;34m.\u001b[0m\u001b[0mpaste\u001b[0m\u001b[0;34m(\u001b[0m\u001b[0;34m)\u001b[0m\u001b[0;34m\u001b[0m\u001b[0;34m\u001b[0m\u001b[0m\n\u001b[0;32m----> 2\u001b[0;31m \u001b[0mim\u001b[0m \u001b[0;34m=\u001b[0m \u001b[0mImageGrab\u001b[0m\u001b[0;34m.\u001b[0m\u001b[0mgrabclipboard\u001b[0m\u001b[0;34m(\u001b[0m\u001b[0;34m)\u001b[0m\u001b[0;34m\u001b[0m\u001b[0;34m\u001b[0m\u001b[0m\n\u001b[0m",
      "\u001b[0;32m~/.local/lib/python3.9/site-packages/PIL/ImageGrab.py\u001b[0m in \u001b[0;36mgrabclipboard\u001b[0;34m()\u001b[0m\n\u001b[1;32m    118\u001b[0m         \u001b[0;32mreturn\u001b[0m \u001b[0;32mNone\u001b[0m\u001b[0;34m\u001b[0m\u001b[0;34m\u001b[0m\u001b[0m\n\u001b[1;32m    119\u001b[0m     \u001b[0;32melse\u001b[0m\u001b[0;34m:\u001b[0m\u001b[0;34m\u001b[0m\u001b[0;34m\u001b[0m\u001b[0m\n\u001b[0;32m--> 120\u001b[0;31m         \u001b[0;32mraise\u001b[0m \u001b[0mNotImplementedError\u001b[0m\u001b[0;34m(\u001b[0m\u001b[0;34m\"ImageGrab.grabclipboard() is macOS and Windows only\"\u001b[0m\u001b[0;34m)\u001b[0m\u001b[0;34m\u001b[0m\u001b[0;34m\u001b[0m\u001b[0m\n\u001b[0m",
      "\u001b[0;31mNotImplementedError\u001b[0m: ImageGrab.grabclipboard() is macOS and Windows only"
     ]
    }
   ],
   "source": [
    "txt = pyperclip.paste()\n",
    "im = ImageGrab.grabclipboard()"
   ]
  },
  {
   "cell_type": "markdown",
   "id": "revolutionary-certificate",
   "metadata": {},
   "source": [
    "# jaarco"
   ]
  },
  {
   "cell_type": "code",
   "execution_count": 17,
   "id": "rational-amount",
   "metadata": {
    "execution": {
     "iopub.execute_input": "2021-05-28T10:44:54.286887Z",
     "iopub.status.busy": "2021-05-28T10:44:54.286401Z",
     "iopub.status.idle": "2021-05-28T10:44:54.292155Z",
     "shell.execute_reply": "2021-05-28T10:44:54.291765Z",
     "shell.execute_reply.started": "2021-05-28T10:44:54.286830Z"
    }
   },
   "outputs": [],
   "source": [
    "from jaraco import clipboard"
   ]
  },
  {
   "cell_type": "code",
   "execution_count": 18,
   "id": "unable-fault",
   "metadata": {
    "execution": {
     "iopub.execute_input": "2021-05-28T10:45:03.115996Z",
     "iopub.status.busy": "2021-05-28T10:45:03.115822Z",
     "iopub.status.idle": "2021-05-28T10:45:03.125817Z",
     "shell.execute_reply": "2021-05-28T10:45:03.125051Z",
     "shell.execute_reply.started": "2021-05-28T10:45:03.115976Z"
    }
   },
   "outputs": [
    {
     "ename": "AttributeError",
     "evalue": "When using gi.repository you must not import static modules like \"gobject\". Please change all occurrences of \"import gobject\" to \"from gi.repository import GObject\". See: https://bugzilla.gnome.org/show_bug.cgi?id=709183",
     "output_type": "error",
     "traceback": [
      "\u001b[0;31m---------------------------------------------------------------------------\u001b[0m",
      "\u001b[0;31mAttributeError\u001b[0m                            Traceback (most recent call last)",
      "\u001b[0;32m<ipython-input-18-b006d57d0f5d>\u001b[0m in \u001b[0;36m<module>\u001b[0;34m\u001b[0m\n\u001b[0;32m----> 1\u001b[0;31m \u001b[0mclipboard\u001b[0m\u001b[0;34m.\u001b[0m\u001b[0mpaste\u001b[0m\u001b[0;34m(\u001b[0m\u001b[0;34m)\u001b[0m\u001b[0;34m\u001b[0m\u001b[0;34m\u001b[0m\u001b[0m\n\u001b[0m",
      "\u001b[0;32m~/.local/lib/python3.9/site-packages/pyperclip/__init__.py\u001b[0m in \u001b[0;36mpaste_gtk\u001b[0;34m()\u001b[0m\n\u001b[1;32m    161\u001b[0m \u001b[0;34m\u001b[0m\u001b[0m\n\u001b[1;32m    162\u001b[0m     \u001b[0;32mdef\u001b[0m \u001b[0mpaste_gtk\u001b[0m\u001b[0;34m(\u001b[0m\u001b[0;34m)\u001b[0m\u001b[0;34m:\u001b[0m\u001b[0;34m\u001b[0m\u001b[0;34m\u001b[0m\u001b[0m\n\u001b[0;32m--> 163\u001b[0;31m         \u001b[0mclipboardContents\u001b[0m \u001b[0;34m=\u001b[0m \u001b[0mgtk\u001b[0m\u001b[0;34m.\u001b[0m\u001b[0mClipboard\u001b[0m\u001b[0;34m(\u001b[0m\u001b[0;34m)\u001b[0m\u001b[0;34m.\u001b[0m\u001b[0mwait_for_text\u001b[0m\u001b[0;34m(\u001b[0m\u001b[0;34m)\u001b[0m\u001b[0;34m\u001b[0m\u001b[0;34m\u001b[0m\u001b[0m\n\u001b[0m\u001b[1;32m    164\u001b[0m         \u001b[0;31m# for python 2, returns None if the clipboard is blank.\u001b[0m\u001b[0;34m\u001b[0m\u001b[0;34m\u001b[0m\u001b[0;34m\u001b[0m\u001b[0m\n\u001b[1;32m    165\u001b[0m         \u001b[0;32mif\u001b[0m \u001b[0mclipboardContents\u001b[0m \u001b[0;32mis\u001b[0m \u001b[0;32mNone\u001b[0m\u001b[0;34m:\u001b[0m\u001b[0;34m\u001b[0m\u001b[0;34m\u001b[0m\u001b[0m\n",
      "\u001b[0;32m/usr/lib/python3.9/site-packages/gi/__init__.py\u001b[0m in \u001b[0;36m__getattr__\u001b[0;34m(self, name)\u001b[0m\n\u001b[1;32m     67\u001b[0m \u001b[0;34m\u001b[0m\u001b[0m\n\u001b[1;32m     68\u001b[0m     \u001b[0;32mdef\u001b[0m \u001b[0m__getattr__\u001b[0m\u001b[0;34m(\u001b[0m\u001b[0mself\u001b[0m\u001b[0;34m,\u001b[0m \u001b[0mname\u001b[0m\u001b[0;34m)\u001b[0m\u001b[0;34m:\u001b[0m\u001b[0;34m\u001b[0m\u001b[0;34m\u001b[0m\u001b[0m\n\u001b[0;32m---> 69\u001b[0;31m         \u001b[0;32mraise\u001b[0m \u001b[0mAttributeError\u001b[0m\u001b[0;34m(\u001b[0m\u001b[0m_static_binding_error\u001b[0m\u001b[0;34m)\u001b[0m\u001b[0;34m\u001b[0m\u001b[0;34m\u001b[0m\u001b[0m\n\u001b[0m\u001b[1;32m     70\u001b[0m \u001b[0;34m\u001b[0m\u001b[0m\n\u001b[1;32m     71\u001b[0m \u001b[0;34m\u001b[0m\u001b[0m\n",
      "\u001b[0;31mAttributeError\u001b[0m: When using gi.repository you must not import static modules like \"gobject\". Please change all occurrences of \"import gobject\" to \"from gi.repository import GObject\". See: https://bugzilla.gnome.org/show_bug.cgi?id=709183"
     ]
    }
   ],
   "source": [
    "clipboard.paste()"
   ]
  },
  {
   "cell_type": "markdown",
   "id": "oriented-bhutan",
   "metadata": {},
   "source": [
    "# xclip"
   ]
  },
  {
   "cell_type": "code",
   "execution_count": 29,
   "id": "rotary-blackjack",
   "metadata": {
    "execution": {
     "iopub.execute_input": "2021-05-28T10:49:47.119520Z",
     "iopub.status.busy": "2021-05-28T10:49:47.119032Z",
     "iopub.status.idle": "2021-05-28T10:49:47.125370Z",
     "shell.execute_reply": "2021-05-28T10:49:47.124020Z",
     "shell.execute_reply.started": "2021-05-28T10:49:47.119461Z"
    }
   },
   "outputs": [],
   "source": [
    "import subprocess\n",
    "from PIL import Image"
   ]
  },
  {
   "cell_type": "code",
   "execution_count": 62,
   "id": "acquired-rolling",
   "metadata": {
    "execution": {
     "iopub.execute_input": "2021-05-28T11:04:27.283981Z",
     "iopub.status.busy": "2021-05-28T11:04:27.283855Z",
     "iopub.status.idle": "2021-05-28T11:04:27.293743Z",
     "shell.execute_reply": "2021-05-28T11:04:27.293309Z",
     "shell.execute_reply.started": "2021-05-28T11:04:27.283967Z"
    }
   },
   "outputs": [
    {
     "data": {
      "text/plain": [
       "'Error: target image/png not available'"
      ]
     },
     "execution_count": 62,
     "metadata": {},
     "output_type": "execute_result"
    }
   ],
   "source": [
    "subprocess.getoutput(\"xclip -selection clipboard -t image/png -o > test.png\")"
   ]
  },
  {
   "cell_type": "code",
   "execution_count": 28,
   "id": "indirect-sewing",
   "metadata": {
    "execution": {
     "iopub.execute_input": "2021-05-28T10:49:09.574568Z",
     "iopub.status.busy": "2021-05-28T10:49:09.574429Z",
     "iopub.status.idle": "2021-05-28T10:49:09.587339Z",
     "shell.execute_reply": "2021-05-28T10:49:09.586767Z",
     "shell.execute_reply.started": "2021-05-28T10:49:09.574553Z"
    }
   },
   "outputs": [
    {
     "data": {
      "image/png": "[encoded data removed]",
      "text/plain": [
       "<PIL.PngImagePlugin.PngImageFile image mode=RGB size=915x270 at 0x7FE4B1F54370>"
      ]
     },
     "execution_count": 28,
     "metadata": {},
     "output_type": "execute_result"
    }
   ],
   "source": [
    "Image.open(\"test.png\")"
   ]
  },
  {
   "cell_type": "code",
   "execution_count": null,
   "id": "assumed-running",
   "metadata": {},
   "outputs": [],
   "source": []
  },
  {
   "cell_type": "code",
   "execution_count": null,
   "id": "polished-spyware",
   "metadata": {},
   "outputs": [],
   "source": []
  },
  {
   "cell_type": "code",
   "execution_count": null,
   "id": "israeli-modem",
   "metadata": {},
   "outputs": [],
   "source": []
  },
  {
   "cell_type": "code",
   "execution_count": null,
   "id": "emerging-cartridge",
   "metadata": {},
   "outputs": [],
   "source": []
  },
  {
   "cell_type": "code",
   "execution_count": null,
   "id": "spare-alfred",
   "metadata": {},
   "outputs": [],
   "source": []
  },
  {
   "cell_type": "code",
   "execution_count": null,
   "id": "historical-acrylic",
   "metadata": {},
   "outputs": [],
   "source": []
  },
  {
   "cell_type": "code",
   "execution_count": null,
   "id": "frozen-drilling",
   "metadata": {},
   "outputs": [],
   "source": []
  },
  {
   "cell_type": "code",
   "execution_count": null,
   "id": "intensive-occupation",
   "metadata": {},
   "outputs": [],
   "source": []
  },
  {
   "cell_type": "code",
   "execution_count": null,
   "id": "genetic-amber",
   "metadata": {},
   "outputs": [],
   "source": []
  },
  {
   "cell_type": "code",
   "execution_count": null,
   "id": "minute-vietnam",
   "metadata": {},
   "outputs": [],
   "source": []
  },
  {
   "cell_type": "code",
   "execution_count": null,
   "id": "conventional-trash",
   "metadata": {},
   "outputs": [],
   "source": []
  }
 ],
 "metadata": {
  "kernelspec": {
   "display_name": "Python 3",
   "language": "python",
   "name": "python3"
  },
  "language_info": {
   "codemirror_mode": {
    "name": "ipython",
    "version": 3
   },
   "file_extension": ".py",
   "mimetype": "text/x-python",
   "name": "python",
   "nbconvert_exporter": "python",
   "pygments_lexer": "ipython3",
   "version": "3.9.1"
  }
 },
 "nbformat": 4,
 "nbformat_minor": 5
}
